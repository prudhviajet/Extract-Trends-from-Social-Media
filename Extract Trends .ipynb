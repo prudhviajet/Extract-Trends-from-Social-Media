{
 "cells": [
  {
   "cell_type": "code",
   "execution_count": 2,
   "id": "85111fb6",
   "metadata": {},
   "outputs": [
    {
     "name": "stdout",
     "output_type": "stream",
     "text": [
      "Collecting pytrends\n",
      "  Downloading pytrends-4.8.0.tar.gz (19 kB)\n",
      "Requirement already satisfied: requests>=2.0 in c:\\users\\cherukuri\\anaconda3\\lib\\site-packages (from pytrends) (2.25.1)\n",
      "Requirement already satisfied: pandas>=0.25 in c:\\users\\cherukuri\\anaconda3\\lib\\site-packages (from pytrends) (1.2.4)\n",
      "Requirement already satisfied: lxml in c:\\users\\cherukuri\\anaconda3\\lib\\site-packages (from pytrends) (4.6.3)\n",
      "Requirement already satisfied: python-dateutil>=2.7.3 in c:\\users\\cherukuri\\anaconda3\\lib\\site-packages (from pandas>=0.25->pytrends) (2.8.1)\n",
      "Requirement already satisfied: numpy>=1.16.5 in c:\\users\\cherukuri\\anaconda3\\lib\\site-packages (from pandas>=0.25->pytrends) (1.20.1)\n",
      "Requirement already satisfied: pytz>=2017.3 in c:\\users\\cherukuri\\anaconda3\\lib\\site-packages (from pandas>=0.25->pytrends) (2021.1)\n",
      "Requirement already satisfied: six>=1.5 in c:\\users\\cherukuri\\anaconda3\\lib\\site-packages (from python-dateutil>=2.7.3->pandas>=0.25->pytrends) (1.15.0)\n",
      "Requirement already satisfied: chardet<5,>=3.0.2 in c:\\users\\cherukuri\\anaconda3\\lib\\site-packages (from requests>=2.0->pytrends) (4.0.0)\n",
      "Requirement already satisfied: idna<3,>=2.5 in c:\\users\\cherukuri\\anaconda3\\lib\\site-packages (from requests>=2.0->pytrends) (2.10)\n",
      "Requirement already satisfied: urllib3<1.27,>=1.21.1 in c:\\users\\cherukuri\\anaconda3\\lib\\site-packages (from requests>=2.0->pytrends) (1.26.4)\n",
      "Requirement already satisfied: certifi>=2017.4.17 in c:\\users\\cherukuri\\anaconda3\\lib\\site-packages (from requests>=2.0->pytrends) (2020.12.5)\n",
      "Building wheels for collected packages: pytrends\n",
      "  Building wheel for pytrends (setup.py): started\n",
      "  Building wheel for pytrends (setup.py): finished with status 'done'\n",
      "  Created wheel for pytrends: filename=pytrends-4.8.0-py3-none-any.whl size=16105 sha256=ce406483998e3baac8432f0d5b31c461406e535a78247512ca6c6f9257fe0086\n",
      "  Stored in directory: c:\\users\\cherukuri\\appdata\\local\\pip\\cache\\wheels\\e8\\78\\c8\\18d4f4804753e14416809b365773220c48b41fe5387f2bb6b9\n",
      "Successfully built pytrends\n",
      "Installing collected packages: pytrends\n",
      "Successfully installed pytrends-4.8.0\n",
      "Note: you may need to restart the kernel to use updated packages.\n"
     ]
    }
   ],
   "source": [
    "pip install pytrends"
   ]
  },
  {
   "cell_type": "code",
   "execution_count": 1,
   "id": "ef666b4f",
   "metadata": {},
   "outputs": [],
   "source": [
    "#request connection to google trends\n",
    "from pytrends.request import TrendReq\n",
    "\n",
    "pytrends = TrendReq(hl='en-US')"
   ]
  },
  {
   "cell_type": "code",
   "execution_count": 2,
   "id": "bca24ad1",
   "metadata": {},
   "outputs": [],
   "source": [
    "#specify the keywords we want to find if they are trending\n",
    "all_keywords = ['Fidget spinner', 'Food', 'Cycle', \n",
    "                'Shirt', 'Wine', 'Beer']\n",
    "keywords = []"
   ]
  },
  {
   "cell_type": "code",
   "execution_count": 3,
   "id": "4bd5b983",
   "metadata": {},
   "outputs": [],
   "source": [
    "#timeframes\n",
    "timeframes = ['today 5-y', 'today 12-m', \n",
    "              'today 3-m', 'today 1-m']\n",
    "cat = '0'\n",
    "geo = ''\n",
    "gprop = ''"
   ]
  },
  {
   "cell_type": "code",
   "execution_count": 4,
   "id": "fc751271",
   "metadata": {},
   "outputs": [],
   "source": [
    "#this prints the raw data\n",
    "def check_data():\n",
    "    pytrends.build_payload(keywords,\n",
    "                           cat, \n",
    "                           timeframes[0],\n",
    "                           geo,\n",
    "                           gprop) \n",
    "    data = pytrends.interest_over_time()\n",
    "    print(data)"
   ]
  },
  {
   "cell_type": "code",
   "execution_count": 5,
   "id": "9d9c6cda",
   "metadata": {},
   "outputs": [
    {
     "name": "stdout",
     "output_type": "stream",
     "text": [
      "            Fidget spinner  isPartial\n",
      "date                                 \n",
      "2017-08-06             100      False\n",
      "2017-08-13              82      False\n",
      "2017-08-20              68      False\n",
      "2017-08-27              57      False\n",
      "2017-09-03              50      False\n",
      "...                    ...        ...\n",
      "2022-06-26               3      False\n",
      "2022-07-03               2      False\n",
      "2022-07-10               3      False\n",
      "2022-07-17               3      False\n",
      "2022-07-24               3       True\n",
      "\n",
      "[260 rows x 2 columns]\n",
      "            Food  isPartial\n",
      "date                       \n",
      "2017-08-06    80      False\n",
      "2017-08-13    80      False\n",
      "2017-08-20    78      False\n",
      "2017-08-27    79      False\n",
      "2017-09-03    80      False\n",
      "...          ...        ...\n",
      "2022-06-26    97      False\n",
      "2022-07-03    99      False\n",
      "2022-07-10    98      False\n",
      "2022-07-17    98      False\n",
      "2022-07-24    98       True\n",
      "\n",
      "[260 rows x 2 columns]\n",
      "            Cycle  isPartial\n",
      "date                        \n",
      "2017-08-06     66      False\n",
      "2017-08-13     69      False\n",
      "2017-08-20     66      False\n",
      "2017-08-27     65      False\n",
      "2017-09-03     74      False\n",
      "...           ...        ...\n",
      "2022-06-26     87      False\n",
      "2022-07-03     80      False\n",
      "2022-07-10     80      False\n",
      "2022-07-17     80      False\n",
      "2022-07-24     80       True\n",
      "\n",
      "[260 rows x 2 columns]\n",
      "            Shirt  isPartial\n",
      "date                        \n",
      "2017-08-06     79      False\n",
      "2017-08-13     78      False\n",
      "2017-08-20     74      False\n",
      "2017-08-27     77      False\n",
      "2017-09-03     76      False\n",
      "...           ...        ...\n",
      "2022-06-26     97      False\n",
      "2022-07-03     98      False\n",
      "2022-07-10     94      False\n",
      "2022-07-17     94      False\n",
      "2022-07-24     90       True\n",
      "\n",
      "[260 rows x 2 columns]\n",
      "            Wine  isPartial\n",
      "date                       \n",
      "2017-08-06    60      False\n",
      "2017-08-13    59      False\n",
      "2017-08-20    59      False\n",
      "2017-08-27    58      False\n",
      "2017-09-03    62      False\n",
      "...          ...        ...\n",
      "2022-06-26    57      False\n",
      "2022-07-03    57      False\n",
      "2022-07-10    55      False\n",
      "2022-07-17    57      False\n",
      "2022-07-24    54       True\n",
      "\n",
      "[260 rows x 2 columns]\n",
      "            Beer  isPartial\n",
      "date                       \n",
      "2017-08-06    94      False\n",
      "2017-08-13    95      False\n",
      "2017-08-20    90      False\n",
      "2017-08-27    86      False\n",
      "2017-09-03    90      False\n",
      "...          ...        ...\n",
      "2022-06-26    81      False\n",
      "2022-07-03    80      False\n",
      "2022-07-10    81      False\n",
      "2022-07-17    79      False\n",
      "2022-07-24    73       True\n",
      "\n",
      "[260 rows x 2 columns]\n"
     ]
    }
   ],
   "source": [
    "for kw in all_keywords:\n",
    "    keywords.append(kw)\n",
    "    check_data()\n",
    "    keywords.pop()"
   ]
  },
  {
   "cell_type": "code",
   "execution_count": 6,
   "id": "37b05725",
   "metadata": {},
   "outputs": [],
   "source": [
    "#this prints the mean of the key words\n",
    "def check_mean():\n",
    "    pytrends.build_payload(keywords,\n",
    "                           cat, \n",
    "                           timeframes[0],\n",
    "                           geo,\n",
    "                           gprop) \n",
    "    data = pytrends.interest_over_time()\n",
    "    mean = round(data.mean(), 2)\n",
    "    print(kw + ': ' + str(mean[kw]))"
   ]
  },
  {
   "cell_type": "code",
   "execution_count": 7,
   "id": "2d639348",
   "metadata": {},
   "outputs": [
    {
     "name": "stdout",
     "output_type": "stream",
     "text": [
      "Fidget spinner: 7.33\n",
      "Food: 88.51\n",
      "Cycle: 79.19\n",
      "Shirt: 76.96\n",
      "Wine: 61.91\n",
      "Beer: 82.13\n"
     ]
    }
   ],
   "source": [
    "for kw in all_keywords:\n",
    "    keywords.append(kw)\n",
    "    check_mean()\n",
    "    keywords.pop()"
   ]
  },
  {
   "cell_type": "code",
   "execution_count": 8,
   "id": "bab3d2bd",
   "metadata": {},
   "outputs": [],
   "source": [
    "#here we print the average 5 year interests of the key words and compare this with the previous year\n",
    "def check_average_interest():\n",
    "    pytrends.build_payload(keywords,\n",
    "                           cat, \n",
    "                           timeframes[0],\n",
    "                           geo,\n",
    "                           gprop) \n",
    "    data = pytrends.interest_over_time()\n",
    "    mean = round(data.mean(), 2)\n",
    "    avg = round(data[kw][-52:].mean(), 2) \n",
    "    #last year \n",
    "    trend = round((avg/mean[kw]-1)*100, 2) \n",
    "    #, 2 is for two decimals\n",
    "    print(kw)\n",
    "    print('The average 5 years interest of ' + kw + \n",
    "          ' was ' + str(mean[kw]) + '.')\n",
    "    print('The last year interest of ' + kw + \n",
    "          ' compared to the last 5 years' + \n",
    "          ' has changed by ' + str(trend) + '%.')"
   ]
  },
  {
   "cell_type": "code",
   "execution_count": 9,
   "id": "37f6974f",
   "metadata": {
    "scrolled": false
   },
   "outputs": [
    {
     "name": "stdout",
     "output_type": "stream",
     "text": [
      "Fidget spinner\n",
      "The average 5 years interest of Fidget spinner was 7.33.\n",
      "The last year interest of Fidget spinner compared to the last 5 years has changed by -49.11%.\n",
      "Food\n",
      "The average 5 years interest of Food was 88.51.\n",
      "The last year interest of Food compared to the last 5 years has changed by 7.16%.\n",
      "Cycle\n",
      "The average 5 years interest of Cycle was 79.19.\n",
      "The last year interest of Cycle compared to the last 5 years has changed by 4.18%.\n",
      "Shirt\n",
      "The average 5 years interest of Shirt was 76.96.\n",
      "The last year interest of Shirt compared to the last 5 years has changed by 7.98%.\n",
      "Wine\n",
      "The average 5 years interest of Wine was 61.91.\n",
      "The last year interest of Wine compared to the last 5 years has changed by -4.2%.\n",
      "Beer\n",
      "The average 5 years interest of Beer was 82.13.\n",
      "The last year interest of Beer compared to the last 5 years has changed by -10.2%.\n"
     ]
    }
   ],
   "source": [
    "for kw in all_keywords:\n",
    "    keywords.append(kw)\n",
    "    check_average_interest()\n",
    "    keywords.pop()"
   ]
  },
  {
   "cell_type": "code",
   "execution_count": 10,
   "id": "d9b8e54d",
   "metadata": {},
   "outputs": [],
   "source": [
    "#this we categorised the result and split them into different parameters\n",
    "def check_average_interest_2():\n",
    "    pytrends.build_payload(keywords,\n",
    "                           cat, \n",
    "                           timeframes[0],\n",
    "                           geo,\n",
    "                           gprop) \n",
    "    data = pytrends.interest_over_time()\n",
    "    mean = round(data.mean(), 2)\n",
    "    avg = round(data[kw][-52:].mean(), 2) \n",
    "    #last year average\n",
    "    trend = round(((avg/mean[kw])-1)*100, 2) \n",
    "    #, 2 is for two decimals\n",
    "    print(kw)\n",
    "    print('The average 5 years interest of ' + kw + \n",
    "          ' was ' + str(mean[kw]) + '.')\n",
    "    print('The last year interest of ' + kw + \n",
    "          ' compared to the last 5 years' + \n",
    "          ' has changed by ' + str(trend) + '%.')\n",
    "    \n",
    "    #Stable trend\n",
    "    if mean[kw] > 75 and abs(trend) <= 5:\n",
    "        print('The interest for ' + kw + ' is stable in the last 5 years.')\n",
    "    elif mean[kw] > 75 and trend > 5:\n",
    "        print('The interest for ' + kw + ' is stable and increasing in the last 5 years.')\n",
    "    elif mean[kw] > 75 and trend < -5:\n",
    "        print('The interest for ' + kw + ' is stable and decreasing in the last 5 years.')\n",
    "\n",
    "    #Relatively stable\n",
    "    elif mean[kw] > 60 and abs(trend) <= 15:\n",
    "        print('The interest for ' + kw + ' is relatively stable in the last 5 years.')\n",
    "    elif mean[kw] > 60 and trend > 15:\n",
    "        print('The interest for ' + kw + ' is relatively stable and increasing in the last 5 years.')\n",
    "    elif mean[kw] > 60 and trend < -15:\n",
    "        print('The interest for ' + kw + ' is relatively stable and decreasing in the last 5 years.')\n",
    "\n",
    "    #Seasonal\n",
    "    elif mean[kw] > 20 and abs(trend) <= 15:\n",
    "        print('The interest for ' + kw + ' is seasonal.')\n",
    "\n",
    "    #New keyword\n",
    "    elif mean[kw] > 20 and trend > 15:\n",
    "        print('The interest for ' + kw + ' is trending.')\n",
    "\n",
    "    #Declining keyword\n",
    "    elif mean[kw] > 20 and trend < -15:\n",
    "        print('The interest for ' + kw + ' is significantly decreasing.')\n",
    "\n",
    "    #Cyclinal\n",
    "    elif mean[kw] > 5 and abs(trend) <= 15:\n",
    "        print('The interest for ' + kw + ' is cyclical.')\n",
    "\n",
    "    #New\n",
    "    elif mean[kw] > 0 and trend > 15:\n",
    "        print('The interest for ' + kw + ' is new and trending.')\n",
    "\n",
    "    #Declining\n",
    "    elif mean[kw] > 0 and trend < -15:\n",
    "        print('The interest for ' + kw + ' is declining and not comparable to its peak.')\n",
    "\n",
    "    #Other\n",
    "    else:\n",
    "        print('This is something to be checked.')\n",
    "        \n",
    "    print('')"
   ]
  },
  {
   "cell_type": "code",
   "execution_count": 11,
   "id": "3e151673",
   "metadata": {},
   "outputs": [
    {
     "name": "stdout",
     "output_type": "stream",
     "text": [
      "Fidget spinner\n",
      "The average 5 years interest of Fidget spinner was 7.33.\n",
      "The last year interest of Fidget spinner compared to the last 5 years has changed by -49.11%.\n",
      "The interest for Fidget spinner is declining and not comparable to its peak.\n",
      "\n",
      "Food\n",
      "The average 5 years interest of Food was 88.51.\n",
      "The last year interest of Food compared to the last 5 years has changed by 7.16%.\n",
      "The interest for Food is stable and increasing in the last 5 years.\n",
      "\n",
      "Cycle\n",
      "The average 5 years interest of Cycle was 79.19.\n",
      "The last year interest of Cycle compared to the last 5 years has changed by 4.18%.\n",
      "The interest for Cycle is stable in the last 5 years.\n",
      "\n",
      "Shirt\n",
      "The average 5 years interest of Shirt was 76.96.\n",
      "The last year interest of Shirt compared to the last 5 years has changed by 7.98%.\n",
      "The interest for Shirt is stable and increasing in the last 5 years.\n",
      "\n",
      "Wine\n",
      "The average 5 years interest of Wine was 61.91.\n",
      "The last year interest of Wine compared to the last 5 years has changed by -4.2%.\n",
      "The interest for Wine is relatively stable in the last 5 years.\n",
      "\n",
      "Beer\n",
      "The average 5 years interest of Beer was 82.13.\n",
      "The last year interest of Beer compared to the last 5 years has changed by -10.2%.\n",
      "The interest for Beer is stable and decreasing in the last 5 years.\n",
      "\n"
     ]
    }
   ],
   "source": [
    "for kw in all_keywords:\n",
    "    keywords.append(kw)\n",
    "    check_average_interest_2()\n",
    "    keywords.pop()"
   ]
  },
  {
   "cell_type": "code",
   "execution_count": 12,
   "id": "645b90dd",
   "metadata": {},
   "outputs": [],
   "source": [
    "#here we calculate the percentage of change in interests\n",
    "def check_average_interest_3():\n",
    "    pytrends.build_payload(keywords,\n",
    "                           cat, \n",
    "                           timeframes[0],\n",
    "                           geo,\n",
    "                           gprop) \n",
    "    data = pytrends.interest_over_time()\n",
    "    mean = round(data.mean(), 2)\n",
    "    avg = round(data[kw][-52:].mean(), 2) \n",
    "    #last year average\n",
    "    avg2 = round(data[kw][52:].mean(), 2)\n",
    "    #yearly average of 5 years ago\n",
    "    trend = round(((avg/mean[kw])-1)*100, 2) \n",
    "    #, 2 is for two decimals\n",
    "    trend2 = round(((avg/avg2)-1)*100, 2)\n",
    "    print(kw)\n",
    "    print('The average 5 years interest of ' + kw + \n",
    "          ' was ' + str(mean[kw]) + '.')\n",
    "    print('The last year interest of ' + kw + \n",
    "          ' compared to the last 5 years' + \n",
    "          ' has changed by ' + str(trend) + '%.')\n",
    "    \n",
    "    #Stable trend\n",
    "    if mean[kw] > 75 and abs(trend) <= 5:\n",
    "        print('The interest for ' + kw + ' is stable in the last 5 years.')\n",
    "    elif mean[kw] > 75 and trend > 5:\n",
    "        print('The interest for ' + kw + ' is stable and increasing in the last 5 years.')\n",
    "    elif mean[kw] > 75 and trend < -5:\n",
    "        print('The interest for ' + kw + ' is stable and decreasing in the last 5 years.')\n",
    "\n",
    "    #Relatively stable\n",
    "    elif mean[kw] > 60 and abs(trend) <= 15:\n",
    "        print('The interest for ' + kw + ' is relatively stable in the last 5 years.')\n",
    "    elif mean[kw] > 60 and trend > 15:\n",
    "        print('The interest for ' + kw + ' is relatively stable and increasing in the last 5 years.')\n",
    "    elif mean[kw] > 60 and trend < -15:\n",
    "        print('The interest for ' + kw + ' is relatively stable and decreasing in the last 5 years.')\n",
    "\n",
    "    #Seasonal\n",
    "    elif mean[kw] > 20 and abs(trend) <= 15:\n",
    "        print('The interest for ' + kw + ' is seasonal.')\n",
    "\n",
    "    #New keyword\n",
    "    elif mean[kw] > 20 and trend > 15:\n",
    "        print('The interest for ' + kw + ' is trending.')\n",
    "\n",
    "    #Declining keyword\n",
    "    elif mean[kw] > 20 and trend < -15:\n",
    "        print('The interest for ' + kw + ' is significantly decreasing.')\n",
    "\n",
    "    #Cyclinal\n",
    "    elif mean[kw] > 5 and abs(trend) <= 15:\n",
    "        print('The interest for ' + kw + ' is cyclical.')\n",
    "\n",
    "    #New\n",
    "    elif mean[kw] > 0 and trend > 15:\n",
    "        print('The interest for ' + kw + ' is new and trending.')\n",
    "\n",
    "    #Declining\n",
    "    elif mean[kw] > 0 and trend < -15:\n",
    "        print('The interest for ' + kw + ' is declining and not comparable to its peak.')\n",
    "\n",
    "    #Other\n",
    "    else:\n",
    "        print('This is something to be checked.')\n",
    "        \n",
    "    #Comparison last year vs. 5 years ago\n",
    "    if avg2 == 0:\n",
    "        print('This didn\\'t exist 5 years ago.')\n",
    "    elif trend2 > 15:\n",
    "        print('The last year interest is quite higher compared to 5 years ago.'\n",
    "              + ' It has increased by ' + str(trend2)+'%.')\n",
    "    elif trend2 < -15:\n",
    "        print('The last year interest is quite lower compared to 5 years ago.'\n",
    "              + ' It has decreased by ' + str(trend2)+'%.')\n",
    "    else:\n",
    "        print('The last year interest is comparable to 5 years ago. '\n",
    "              + ' It has changed by ' + str(trend2)+'%.')\n",
    "    \n",
    "    print('')"
   ]
  },
  {
   "cell_type": "code",
   "execution_count": 13,
   "id": "4a69ca59",
   "metadata": {},
   "outputs": [
    {
     "name": "stdout",
     "output_type": "stream",
     "text": [
      "Fidget spinner\n",
      "The average 5 years interest of Fidget spinner was 7.33.\n",
      "The last year interest of Fidget spinner compared to the last 5 years has changed by -49.11%.\n",
      "The interest for Fidget spinner is declining and not comparable to its peak.\n",
      "The last year interest is comparable to 5 years ago.  It has changed by -9.69%.\n",
      "\n",
      "Food\n",
      "The average 5 years interest of Food was 88.51.\n",
      "The last year interest of Food compared to the last 5 years has changed by 7.16%.\n",
      "The interest for Food is stable and increasing in the last 5 years.\n",
      "The last year interest is comparable to 5 years ago.  It has changed by 4.92%.\n",
      "\n",
      "Cycle\n",
      "The average 5 years interest of Cycle was 79.19.\n",
      "The last year interest of Cycle compared to the last 5 years has changed by 4.18%.\n",
      "The interest for Cycle is stable in the last 5 years.\n",
      "The last year interest is comparable to 5 years ago.  It has changed by 3.28%.\n",
      "\n",
      "Shirt\n",
      "The average 5 years interest of Shirt was 76.96.\n",
      "The last year interest of Shirt compared to the last 5 years has changed by 7.98%.\n",
      "The interest for Shirt is stable and increasing in the last 5 years.\n",
      "The last year interest is comparable to 5 years ago.  It has changed by 7.54%.\n",
      "\n",
      "Wine\n",
      "The average 5 years interest of Wine was 61.91.\n",
      "The last year interest of Wine compared to the last 5 years has changed by -4.2%.\n",
      "The interest for Wine is relatively stable in the last 5 years.\n",
      "The last year interest is comparable to 5 years ago.  It has changed by -3.9%.\n",
      "\n",
      "Beer\n",
      "The average 5 years interest of Beer was 82.13.\n",
      "The last year interest of Beer compared to the last 5 years has changed by -10.2%.\n",
      "The interest for Beer is stable and decreasing in the last 5 years.\n",
      "The last year interest is comparable to 5 years ago.  It has changed by -8.67%.\n",
      "\n"
     ]
    }
   ],
   "source": [
    "for kw in all_keywords:\n",
    "    keywords.append(kw)\n",
    "    check_average_interest_3()\n",
    "    keywords.pop()"
   ]
  },
  {
   "cell_type": "code",
   "execution_count": null,
   "id": "caed620e",
   "metadata": {},
   "outputs": [],
   "source": []
  },
  {
   "cell_type": "code",
   "execution_count": 35,
   "id": "774dbc24",
   "metadata": {},
   "outputs": [],
   "source": [
    "#here we plot the trend graph over a period of time\n",
    "from pytrends.request import TrendReq\n",
    "import matplotlib.pyplot as plt\n",
    "import numpy as np\n",
    "plot.style.use('ggplot')\n",
    "pytrends = TrendReq(hl='en-US')"
   ]
  },
  {
   "cell_type": "code",
   "execution_count": 74,
   "id": "7c565be5",
   "metadata": {},
   "outputs": [],
   "source": [
    "all_keywords = ['Car', 'Shoes', 'Stapler', 'Phone']\n",
    "keywords = []"
   ]
  },
  {
   "cell_type": "code",
   "execution_count": 53,
   "id": "60879148",
   "metadata": {},
   "outputs": [],
   "source": [
    "timeframes = ['today 5-y', 'today 12-m', \n",
    "              'today 3-m', 'today 1-m']\n",
    "cat = '0'\n",
    "geo = ''\n",
    "gprop = ''"
   ]
  },
  {
   "cell_type": "code",
   "execution_count": 75,
   "id": "a9e4e0bf",
   "metadata": {},
   "outputs": [
    {
     "data": {
      "image/png": "[encoded data removed]",
      "text/plain": [
       "<Figure size 720x576 with 2 Axes>"
      ]
     },
     "metadata": {},
     "output_type": "display_data"
    }
   ],
   "source": [
    "def comparision():\n",
    "    plt.figure(figsize = (10, 8))\n",
    "    xPosition = np.arange(len(all_keywords))\n",
    "    \n",
    "    #relative to last 5 years\n",
    "    pytrends.build_payload(all_keywords,\n",
    "                           cat, \n",
    "                           timeframes[0],\n",
    "                           geo,\n",
    "                           gprop)\n",
    "    data = pytrends.interest_over_time()\n",
    "    mean = data.mean()\n",
    "    #this will make the highest interested product to 100 and make other products relative to it\n",
    "    mean = round(mean / mean.max() * 100, 2)\n",
    "    axis1 = plt.subplot2grid((2, 2), (0, 0), rowspan = 1, colspan = 1)\n",
    "    axis2 = plt.subplot2grid((2, 2), (0, 1), rowspan = 1, colspan = 1)\n",
    "    for kw in all_keywords:\n",
    "        axis1.plot(data[kw], label = kw)\n",
    "    axis2.bar(xPosition, mean[0:len(all_keywords)], align = 'center')\n",
    "    plot.xticks(xPosition, all_keywords)\n",
    "    axis1.legend()\n",
    "    plot.show()\n",
    "comparision()"
   ]
  },
  {
   "cell_type": "code",
   "execution_count": 76,
   "id": "5405922f",
   "metadata": {},
   "outputs": [
    {
     "data": {
      "image/png": "[encoded data removed]",
      "text/plain": [
       "<Figure size 720x576 with 1 Axes>"
      ]
     },
     "metadata": {},
     "output_type": "display_data"
    }
   ],
   "source": [
    "def comparision():\n",
    "    plt.figure(figsize = (10, 8))\n",
    "    \n",
    "    #relative to last 12 months\n",
    "    pytrends.build_payload(all_keywords,\n",
    "                           cat, \n",
    "                           timeframes[1],\n",
    "                           geo,\n",
    "                           gprop)\n",
    "    data = pytrends.interest_over_time()\n",
    "    mean = data.mean()\n",
    "    #this will make the highest interested product to 100 and make other products relative to it\n",
    "    mean = round(mean / mean.max() * 100, 2)\n",
    "    axis1 = plt.subplot2grid((2, 2), (0, 0), rowspan = 1, colspan = 1)\n",
    "    for kw in all_keywords:\n",
    "        axis1.plot(data[kw], label = kw)\n",
    "    axis1.legend()\n",
    "    plot.show()\n",
    "comparision()"
   ]
  },
  {
   "cell_type": "code",
   "execution_count": 77,
   "id": "8f4c782e",
   "metadata": {},
   "outputs": [
    {
     "data": {
      "image/png": "[encoded data removed]",
      "text/plain": [
       "<Figure size 720x576 with 1 Axes>"
      ]
     },
     "metadata": {},
     "output_type": "display_data"
    }
   ],
   "source": [
    "def comparision():\n",
    "    plt.figure(figsize = (10, 8))\n",
    "    \n",
    "    #relative to last 3 months\n",
    "    pytrends.build_payload(all_keywords,\n",
    "                           cat, \n",
    "                           timeframes[2],\n",
    "                           geo,\n",
    "                           gprop)\n",
    "    data = pytrends.interest_over_time()\n",
    "    mean = data.mean()\n",
    "    #this will make the highest interested product to 100 and make other products relative to it\n",
    "    mean = round(mean / mean.max() * 100, 2)\n",
    "    axis1 = plt.subplot2grid((2, 2), (0, 0), rowspan = 1, colspan = 1)\n",
    "    for kw in all_keywords:\n",
    "        axis1.plot(data[kw], label = kw)\n",
    "    axis1.legend()\n",
    "    plot.show()\n",
    "comparision()"
   ]
  },
  {
   "cell_type": "code",
   "execution_count": null,
   "id": "aa8fa5b6",
   "metadata": {},
   "outputs": [],
   "source": []
  }
 ],
 "metadata": {
  "kernelspec": {
   "display_name": "Python 3",
   "language": "python",
   "name": "python3"
  },
  "language_info": {
   "codemirror_mode": {
    "name": "ipython",
    "version": 3
   },
   "file_extension": ".py",
   "mimetype": "text/x-python",
   "name": "python",
   "nbconvert_exporter": "python",
   "pygments_lexer": "ipython3",
   "version": "3.8.8"
  }
 },
 "nbformat": 4,
 "nbformat_minor": 5
}
